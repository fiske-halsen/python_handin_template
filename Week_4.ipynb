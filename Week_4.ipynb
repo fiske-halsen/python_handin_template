{
 "cells": [
  {
   "cell_type": "markdown",
   "metadata": {},
   "source": [
    "# Week 4 handin"
   ]
  },
  {
   "cell_type": "markdown",
   "metadata": {},
   "source": [
    "## 01 Assignment\n",
    "Here is the text for the assignment linked to"
   ]
  },
  {
   "cell_type": "markdown",
   "metadata": {},
   "source": [
    "## 02 Status\n",
    "Here is a status on the handin. How far you got. What is implemented and what is not"
   ]
  },
  {
   "cell_type": "markdown",
   "metadata": {},
   "source": [
    "# Ex 1 "
   ]
  },
  {
   "cell_type": "markdown",
   "metadata": {},
   "source": [
    "1.Open the file './data/befkbhalderstatkode.csv'\n",
    "2. Turn the csv file into a numpy ndarray with np.genfromtxt(filename, delimiter=',', dtype=np.uint, skip_header=1)"
   ]
  },
  {
   "cell_type": "code",
   "execution_count": 1,
   "metadata": {},
   "outputs": [
    {
     "name": "stdout",
     "output_type": "stream",
     "text": [
      "<class 'numpy.ndarray'>  of size:  2712585\n"
     ]
    }
   ],
   "source": [
    "import numpy as np\n",
    "\n",
    "filename = '../data/befkbhalderstatkode.csv'\n",
    "\n",
    "bef_stats_df = np.genfromtxt(filename, delimiter=',', dtype=np.uint, skip_header=1)\n",
    "\n",
    "print(type(bef_stats_df),' of size: ',bef_stats_df.size)\n"
   ]
  },
  {
   "cell_type": "markdown",
   "metadata": {},
   "source": [
    "3. Using this data:\n",
    "\n",
    "neighb = {1: 'Indre By', 2: 'Østerbro', 3: 'Nørrebro', 4: 'Vesterbro/Kgs. Enghave', \n",
    "       5: 'Valby', 6: 'Vanløse', 7: 'Brønshøj-Husum', 8: 'Bispebjerg', 9: 'Amager Øst', \n",
    "       10: 'Amager Vest', 99: 'Udenfor'}\n",
    "\n",
    "Find out how many people lived in each of the 11 areas in 2015"
   ]
  },
  {
   "cell_type": "code",
   "execution_count": 2,
   "metadata": {},
   "outputs": [
    {
     "name": "stdout",
     "output_type": "stream",
     "text": [
      "Total number of people living in Indre By in the year 2015 is 51937 \n",
      "Total number of people living in Østerbro in the year 2015 is 75113 \n",
      "Total number of people living in Nørrebro in the year 2015 is 78802 \n",
      "Total number of people living in Vesterbro/Kgs. Enghave in the year 2015 is 61623 \n",
      "Total number of people living in Valby in the year 2015 is 51727 \n",
      "Total number of people living in Vanløse in the year 2015 is 39537 \n",
      "Total number of people living in Brønshøj-Husum in the year 2015 is 43908 \n",
      "Total number of people living in Bispebjerg in the year 2015 is 53604 \n",
      "Total number of people living in Amager Øst in the year 2015 is 55205 \n",
      "Total number of people living in Amager Vest in the year 2015 is 64967 \n",
      "Total number of people living in Udenfor in the year 2015 is 3872 \n"
     ]
    }
   ],
   "source": [
    "dd = bef_stats_df\n",
    "\n",
    "neighb = {1: 'Indre By', 2: 'Østerbro', 3: 'Nørrebro', 4: 'Vesterbro/Kgs. Enghave', \n",
    "          5: 'Valby', 6: 'Vanløse', 7: 'Brønshøj-Husum', 8: 'Bispebjerg', 9: 'Amager Øst', \n",
    "          10: 'Amager Vest', 99: 'Udenfor'}\n",
    "\n",
    "def number_of_people_per_area(n, mask):\n",
    "    all_people_in_given_n = dd[mask & (dd[:,1] == n)]\n",
    "    sum_of_people = all_people_in_given_n[:,4].sum() \n",
    "    return sum_of_people\n",
    "\n",
    "\n",
    "for key in neighb:\n",
    "    mask = (dd[:,0] == 2015) & (dd[:,1] == key)\n",
    "    array = np.array([number_of_people_per_area(key, mask)])\n",
    "    msg = 'Total number of people living in {} in the year 2015 is {} '\n",
    "    print(msg.format(neighb[key] ,array.max() ))\n",
    "    \n"
   ]
  },
  {
   "cell_type": "markdown",
   "metadata": {},
   "source": [
    "4.Make a bar plot to show the size of each city area from the smallest to the largest"
   ]
  },
  {
   "cell_type": "code",
   "execution_count": 8,
   "metadata": {},
   "outputs": [
    {
     "data": {
      "image/png": "[encoded data removed]",
      "text/plain": [
       "<Figure size 432x288 with 1 Axes>"
      ]
     },
     "metadata": {
      "needs_background": "light"
     },
     "output_type": "display_data"
    }
   ],
   "source": [
    "import matplotlib.pyplot as plt\n",
    "\n",
    "area_pop = {}\n",
    "\n",
    "def fill_dict():\n",
    "    for key in neighb:\n",
    "        mask = (dd[:,0] == 2015) & (dd[:,1] == key)\n",
    "        area_pop.update({neighb[key]:number_of_people_per_area(key, mask) })\n",
    "    \n",
    "\n",
    "\n",
    "\n",
    "def make_bar_pop_area():\n",
    "    dict_sorted = {k: v for k, v in sorted(area_pop.items(), key=lambda item: item[1])}\n",
    "    for key in dict_sorted:\n",
    "        plt.bar([key],[dict_sorted[key]],width=0.5, align='center')\n",
    "        plt.xticks(rotation=45, horizontalalignment='right',fontweight='light')\n",
    "    \n",
    "    \n",
    "fill_dict()\n",
    "make_bar_pop_area()\n",
    "    \n"
   ]
  },
  {
   "cell_type": "markdown",
   "metadata": {},
   "source": [
    "5.Create a boolean mask to find out how many people above 65 years lived in Copenhagen in 2015"
   ]
  },
  {
   "cell_type": "code",
   "execution_count": 37,
   "metadata": {},
   "outputs": [
    {
     "name": "stdout",
     "output_type": "stream",
     "text": [
      "55700\n"
     ]
    }
   ],
   "source": [
    "def get_all_people_over_65():\n",
    "    total_people_over_65 = 0\n",
    "    mask = (dd[:,0] == 2015) & (dd[:,1] != 99) & (dd[:,2] > 65 )\n",
    "    for key in neighb:\n",
    "        total_people_over_65 += number_of_people_per_area(key, mask)\n",
    "    print(int(total_people_over_65))\n",
    "    \n",
    "get_all_people_over_65()\n",
    "                              \n"
   ]
  },
  {
   "cell_type": "markdown",
   "metadata": {},
   "source": [
    "6.How many of those were from the other nordic countries (not dk). Hint: see notebook: \"04 Numpy\""
   ]
  },
  {
   "cell_type": "code",
   "execution_count": null,
   "metadata": {},
   "outputs": [],
   "source": [
    "def get_all_people_over_65_nordic():\n",
    "    total_people_nordic = 0\n",
    "    mask = (dd[:,0] == 2015) & (dd[:,1] != 99) & (dd[:,2] > 65 & dd[:,0] == 2015) "
   ]
  }
 ],
 "metadata": {
  "kernelspec": {
   "display_name": "Python 3",
   "language": "python",
   "name": "python3"
  },
  "language_info": {
   "codemirror_mode": {
    "name": "ipython",
    "version": 3
   },
   "file_extension": ".py",
   "mimetype": "text/x-python",
   "name": "python",
   "nbconvert_exporter": "python",
   "pygments_lexer": "ipython3",
   "version": "3.7.6"
  }
 },
 "nbformat": 4,
 "nbformat_minor": 4
}
