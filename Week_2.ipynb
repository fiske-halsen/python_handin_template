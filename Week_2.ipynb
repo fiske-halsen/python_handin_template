{
 "cells": [
  {
   "cell_type": "markdown",
   "metadata": {},
   "source": [
    "# Week 2 handin"
   ]
  },
  {
   "cell_type": "markdown",
   "metadata": {},
   "source": [
    "## Assignment\n",
    "Here is the text for the assignment linked to"
   ]
  },
  {
   "cell_type": "markdown",
   "metadata": {},
   "source": [
    "## Status\n",
    "All tasks has been completed. The second exercise was done i vs code, check the folder week_2_folder to see."
   ]
  },
  {
   "cell_type": "markdown",
   "metadata": {},
   "source": [
    "# Create a python file with 3 functions:\n",
    "\n"
   ]
  },
  {
   "cell_type": "markdown",
   "metadata": {},
   "source": [
    "A. def print_file_content(file) that can print content of a csv file to the console"
   ]
  },
  {
   "cell_type": "code",
   "execution_count": 32,
   "metadata": {},
   "outputs": [
    {
     "name": "stdout",
     "output_type": "stream",
     "text": [
      "['Hej med dig']\n",
      "['Jeg elsker mad']\n",
      "['Hunde er sødehej', 'nej']\n",
      "['muha', 'hehe']\n",
      "['hej', 'nej']\n",
      "['muha', 'hehe']\n"
     ]
    }
   ],
   "source": [
    "import csv\n",
    "def print_file_content(file):\n",
    "    with open(file, 'r') as file_obj:\n",
    "        reader = csv.reader(file_obj)\n",
    "        for row in reader:\n",
    "            print(row)\n",
    "        \n",
    "print_file_content('myfile.csv')   "
   ]
  },
  {
   "cell_type": "markdown",
   "metadata": {},
   "source": [
    "B. def write_list_to_file(output_file, lst) that can take a list of tuple and write each element to a new line in file"
   ]
  },
  {
   "cell_type": "code",
   "execution_count": 40,
   "metadata": {},
   "outputs": [],
   "source": [
    "import csv\n",
    "def write_list_to_file(output_file, *lst):\n",
    "    with open(output_file, 'a') as file_obj:\n",
    "        for item in lst:\n",
    "            file_obj.write(item)\n",
    "               \n",
    "        \n",
    "write_list_to_file('myfile.csv', \"nyt\", \"nyt\", \"nyt\")"
   ]
  },
  {
   "cell_type": "markdown",
   "metadata": {},
   "source": [
    "C.def read_csv(input_file) that take a csv file and read each row into a list"
   ]
  },
  {
   "cell_type": "code",
   "execution_count": 54,
   "metadata": {},
   "outputs": [
    {
     "name": "stdout",
     "output_type": "stream",
     "text": [
      "['Hej med dig', 'Jeg elsker mad', 'Hunde er sødehej,nej', 'muha,hehe', 'hej,nej', 'muha,hehe', 'hej,nej', 'muha,hehe', 'hej,nej', 'muha,hehe', 'hej,nej', 'muha,hehe', 'hej,nej', 'muha,hehe', 'hej,nej', 'muha,hehe', 'nytnytnyt']\n"
     ]
    }
   ],
   "source": [
    "import csv\n",
    "myList = [];\n",
    "def read_csv(input_file):\n",
    "    with open(input_file, 'r') as file_obj:\n",
    "        lines = file_obj.readlines()\n",
    "        for line in lines:\n",
    "            myList.append(line.rstrip())\n",
    "\n",
    "\n",
    "read_csv('myfile.csv')\n",
    "print(myList)"
   ]
  },
  {
   "cell_type": "markdown",
   "metadata": {},
   "source": [
    "# 2.Add a functionality so that the file can be called from cli with 2 arguments"
   ]
  },
  {
   "cell_type": "markdown",
   "metadata": {},
   "source": [
    "A.path to csv file"
   ]
  },
  {
   "cell_type": "code",
   "execution_count": null,
   "metadata": {},
   "outputs": [],
   "source": [
    "import sys\n",
    "import csv\n",
    "def print_file_content(file):\n",
    "    with open(file, 'r') as file_obj:\n",
    "        reader = csv.reader(file_obj)\n",
    "        for row in reader:\n",
    "            print(row)\n",
    "        \n",
    "print_file_content(sys.argv[0])"
   ]
  }
 ],
 "metadata": {
  "kernelspec": {
   "display_name": "Python 3",
   "language": "python",
   "name": "python3"
  },
  "language_info": {
   "codemirror_mode": {
    "name": "ipython",
    "version": 3
   },
   "file_extension": ".py",
   "mimetype": "text/x-python",
   "name": "python",
   "nbconvert_exporter": "python",
   "pygments_lexer": "ipython3",
   "version": "3.7.6"
  }
 },
 "nbformat": 4,
 "nbformat_minor": 4
}
