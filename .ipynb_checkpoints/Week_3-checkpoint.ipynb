{
 "cells": [
  {
   "cell_type": "markdown",
   "metadata": {},
   "source": [
    "# Week 3 handin"
   ]
  },
  {
   "cell_type": "markdown",
   "metadata": {},
   "source": [
    "## 01 Assignment\n",
    "Here is the text for the assignment linked to"
   ]
  },
  {
   "cell_type": "markdown",
   "metadata": {},
   "source": [
    "## 02 Status\n",
    "Here is a status on the handin. How far you got. What is implemented and what is not"
   ]
  },
  {
   "cell_type": "markdown",
   "metadata": {},
   "source": [
    "# Ex 1 Classes"
   ]
  },
  {
   "cell_type": "markdown",
   "metadata": {},
   "source": [
    "1. Create 3 classes: Student, DataSheet and Course\n",
    "2. A student has a data_sheet and a data_sheet has multiple courses in particular order\n",
    "3. Each course has name, classroom, teacher, ETCS and optional grade if course is taken.\n",
    "4. In Student create init() so that a Student can be initiated with name, gender, data_sheet and image_url"
   ]
  },
  {
   "cell_type": "code",
   "execution_count": 2,
   "metadata": {},
   "outputs": [
    {
     "name": "stdout",
     "output_type": "stream",
     "text": [
      "Phillip\n"
     ]
    }
   ],
   "source": [
    "from modules import ex1week3 as ex1\n",
    "course = ex1.Course(\"Python\", \"D klassen\", \"Thomas\", 20, 10)\n",
    "data_sheet = ex1.DataSheet([course])\n",
    "student = ex1.Student(\"Phillip\", \"male\", data_sheet, \"url\")\n",
    "print(student.name)"
   ]
  },
  {
   "cell_type": "markdown",
   "metadata": {},
   "source": [
    "5.In DataSheet create a method to get_grades_as_list()"
   ]
  },
  {
   "cell_type": "code",
   "execution_count": 3,
   "metadata": {},
   "outputs": [
    {
     "name": "stdout",
     "output_type": "stream",
     "text": [
      "[10]\n"
     ]
    }
   ],
   "source": [
    "from modules import ex1week3 as ex1\n",
    "course = ex1.Course(\"Python\", \"D klassen\", \"Thomas\", 20, 10)\n",
    "data_sheet = ex1.DataSheet([course])\n",
    "student = ex1.Student(\"Phillip\", \"male\", data_sheet, \"url\")\n",
    "\n",
    "list_grades = data_sheet.get_grades_as_list()\n",
    "print(list_grades)"
   ]
  },
  {
   "cell_type": "markdown",
   "metadata": {},
   "source": [
    "6. In student create a method: get_avg_grade()"
   ]
  },
  {
   "cell_type": "code",
   "execution_count": 4,
   "metadata": {},
   "outputs": [
    {
     "name": "stdout",
     "output_type": "stream",
     "text": [
      "10.0\n"
     ]
    }
   ],
   "source": [
    "from modules import ex1week3 as ex1\n",
    "course = ex1.Course(\"Python\", \"D klassen\", \"Thomas\", 20, 10)\n",
    "data_sheet = ex1.DataSheet([course])\n",
    "student = ex1.Student(\"Phillip\", \"male\", data_sheet, \"url\")\n",
    "\n",
    "avg_grade = student.get_avg_grade()\n",
    "\n",
    "print(avg_grade)"
   ]
  },
  {
   "cell_type": "markdown",
   "metadata": {},
   "source": [
    "7. Create a function that can generate n number of students with random: name, gender, courses (from a fixed list of course names), grades, img_url\n",
    "\n",
    "   A. Let the function write the result to a csv file with format stud_name, course_name, teacher, ects, classroom, grade, img_url\n"
   ]
  },
  {
   "cell_type": "code",
   "execution_count": 6,
   "metadata": {},
   "outputs": [],
   "source": [
    "from modules import ex1week3 as ex1\n",
    "ex1.generate_students(5)"
   ]
  },
  {
   "cell_type": "markdown",
   "metadata": {},
   "source": [
    "8.Read student data into a list of Students from a csv file:\n",
    "\n",
    "A.loop through the list and print each student with name, img_url and avg_grade."
   ]
  },
  {
   "cell_type": "code",
   "execution_count": 6,
   "metadata": {},
   "outputs": [
    {
     "name": "stdout",
     "output_type": "stream",
     "text": [
      "name: Amy Brown, image_url: hzawwovxlypuiwp, avg_grade: 2.0\n",
      "name: Ronald Ellerbee, image_url: orynlkgrhctuiuj, avg_grade: 4.0\n",
      "name: Flossie Perfater, image_url: hmyifqkbnwdvrpb, avg_grade: -3.0\n",
      "name: Melissa Short, image_url: fejcnuwgsudvvnz, avg_grade: 4.0\n",
      "name: Fred Martinez, image_url: zqnjqjjpucdsnlm, avg_grade: 0.0\n"
     ]
    }
   ],
   "source": [
    "from modules import ex1week3 as ex1\n",
    "ex1.print_students()"
   ]
  },
  {
   "cell_type": "markdown",
   "metadata": {},
   "source": [
    "B. sort the list by avg_grade"
   ]
  },
  {
   "cell_type": "code",
   "execution_count": 5,
   "metadata": {},
   "outputs": [
    {
     "name": "stdout",
     "output_type": "stream",
     "text": [
      "-3.0\n",
      "0.0\n",
      "2.0\n",
      "4.0\n",
      "4.0\n"
     ]
    }
   ],
   "source": [
    "from modules import ex1week3 as ex1\n",
    "ex1.sort_list_by_grade()"
   ]
  },
  {
   "cell_type": "markdown",
   "metadata": {},
   "source": [
    "C. create a bar chart with student_name on x and avg_grade on y-axis"
   ]
  },
  {
   "cell_type": "code",
   "execution_count": 7,
   "metadata": {},
   "outputs": [
    {
     "data": {
      "image/png": "[encoded data removed]",
      "text/plain": [
       "<Figure size 432x288 with 1 Axes>"
      ]
     },
     "metadata": {
      "needs_background": "light"
     },
     "output_type": "display_data"
    }
   ],
   "source": [
    "from modules import ex1week3 as ex1\n",
    "ex1.create_barchat()"
   ]
  },
  {
   "cell_type": "markdown",
   "metadata": {},
   "source": [
    "9. Make a method on Student class that can show progression of the study in % (add up ECTS from all passed courses divided by total of 150 total points (equivalent to 5 semesters))"
   ]
  },
  {
   "cell_type": "code",
   "execution_count": 8,
   "metadata": {},
   "outputs": [
    {
     "name": "stdout",
     "output_type": "stream",
     "text": [
      "0.13333333333333333\n"
     ]
    }
   ],
   "source": [
    "from modules import ex1week3 as ex1\n",
    "course = ex1.Course(\"Python\", \"D klassen\", \"Thomas\", 20, 10)\n",
    "data_sheet = ex1.DataSheet([course])\n",
    "student = ex1.Student(\"Phillip\", \"male\", data_sheet, \"url\")\n",
    "\n",
    "progression = student.get_progression()\n",
    "\n",
    "print(progression)"
   ]
  },
  {
   "cell_type": "markdown",
   "metadata": {},
   "source": [
    "10. Show a bar chart of distribution of study progression on x-axis and number of students in each category on y-axis. (e.g. make 10 categories from 0-100%)"
   ]
  },
  {
   "cell_type": "code",
   "execution_count": null,
   "metadata": {},
   "outputs": [],
   "source": [
    "from modules import ex1week3 as ex1\n",
    "\n",
    "ex1.create_barchat_study_progression()"
   ]
  }
 ],
 "metadata": {
  "kernelspec": {
   "display_name": "Python 3",
   "language": "python",
   "name": "python3"
  },
  "language_info": {
   "codemirror_mode": {
    "name": "ipython",
    "version": 3
   },
   "file_extension": ".py",
   "mimetype": "text/x-python",
   "name": "python",
   "nbconvert_exporter": "python",
   "pygments_lexer": "ipython3",
   "version": "3.7.6"
  }
 },
 "nbformat": 4,
 "nbformat_minor": 4
}
