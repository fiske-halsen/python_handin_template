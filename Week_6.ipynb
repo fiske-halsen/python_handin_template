{
 "cells": [
  {
   "cell_type": "markdown",
   "metadata": {},
   "source": [
    "# Week 6 handin"
   ]
  },
  {
   "cell_type": "markdown",
   "metadata": {},
   "source": [
    "## 01 Assignment\n",
    "Here is the text for the assignment linked to"
   ]
  },
  {
   "cell_type": "markdown",
   "metadata": {},
   "source": [
    "## 02 Status\n",
    "Here is a status on the handin. How far you got. What is implemented and what is not"
   ]
  },
  {
   "cell_type": "markdown",
   "metadata": {},
   "source": [
    "# Ex 1 "
   ]
  },
  {
   "cell_type": "markdown",
   "metadata": {},
   "source": [
    "1. Create a module containing a class: TextComparer with the following methods:\n",
    "\n",
    "    A. init(self, url_list)\n",
    "    \n",
    "    B. download(url,filename) raises NotFoundException when url returns 404\n",
    "    \n",
    "    C. multi_download() uses threads to download multiple urls as text and stores filenames as a property\n",
    "    \n",
    "    D. iter() returns an iterator\n",
    "    \n",
    "    E. next() returns the next filename (and stops when there are no more)\n",
    "    \n",
    "    F.urllist_generator() returns a generator to loop through the urls\n",
    "    \n",
    "    G. avg_vowels(text) - a rough estimate on readability returns average number of vowels in the words of the text\n",
    "    \n",
    "   H.hardest_read() returns the filename of the text with the highest vowel score (use all the cpu cores on the computer for this work.\n"
   ]
  },
  {
   "cell_type": "code",
   "execution_count": 1,
   "metadata": {
    "scrolled": true
   },
   "outputs": [],
   "source": [
    "from modules import week6text_comparer as ex6\n",
    "tc1 = ex6.TextComparer([\"https://swapi.dev/api/people/1\", \"https://swapi.dev/api/people/2\"])\n",
    "tc1.download(\"https://swapi.dev/api/people/1\", \"week6test\")\n",
    "tc1.multi_download()"
   ]
  },
  {
   "cell_type": "code",
   "execution_count": 2,
   "metadata": {
    "scrolled": false
   },
   "outputs": [
    {
     "name": "stdout",
     "output_type": "stream",
     "text": [
      "[<Process(Process-1, started)>, <Process(Process-2, started)>]\n",
      "[<Process(Process-1, stopped)>, <Process(Process-2, started)>]\n"
     ]
    }
   ],
   "source": [
    "from modules import week6text_comparer as ex6\n",
    "tc1 = ex6.TextComparer([\"https://swapi.dev/api/people/1\", \"https://swapi.dev/api/people/2\"])\n",
    "tc1.multi_download()\n",
    "\n",
    "\n",
    "#for x in tc1:\n",
    "  #  print(x)\n",
    "\n",
    "#for x in tc1.urllist_generator():\n",
    "   # print(x)\n",
    "\n",
    "#tc1.avg_vowels(\"Hej med dig\")\n",
    "\n",
    "\n",
    "tc1.hardest_read()"
   ]
  },
  {
   "cell_type": "code",
   "execution_count": null,
   "metadata": {},
   "outputs": [],
   "source": []
  }
 ],
 "metadata": {
  "kernelspec": {
   "display_name": "Python 3",
   "language": "python",
   "name": "python3"
  },
  "language_info": {
   "codemirror_mode": {
    "name": "ipython",
    "version": 3
   },
   "file_extension": ".py",
   "mimetype": "text/x-python",
   "name": "python",
   "nbconvert_exporter": "python",
   "pygments_lexer": "ipython3",
   "version": "3.7.6"
  }
 },
 "nbformat": 4,
 "nbformat_minor": 4
}
